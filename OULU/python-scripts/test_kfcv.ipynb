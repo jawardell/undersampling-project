{
 "cells": [
  {
   "cell_type": "code",
   "execution_count": 72,
   "metadata": {},
   "outputs": [],
   "source": [
    "\n",
    "import statsmodels.api as sm\n",
    "import pandas as pd\n",
    "import numpy as np\n",
    "from sklearn.model_selection import GroupKFold\n",
    "\n",
    "\n",
    "import numpy as np\n",
    "import pandas as pd\n",
    "import sys\n",
    "\n",
    "from polyssifier import poly\n",
    "\n",
    "import logging \n",
    "\n",
    "import scipy.sparse as sp\n",
    "import scipy.io\n",
    "from scipy.stats import zscore\n",
    "from scipy.signal import detrend\n",
    "\n",
    "from scipy.sparse.linalg import eigs\n",
    "from gunfolds.utils import graphkit as gk\n",
    "from gunfolds.conversions import graph2adj\n",
    "\n",
    "import matplotlib.pyplot as plt\n",
    "\n",
    "from sklearn.preprocessing import MinMaxScaler\n",
    "from sklearn.utils import check_random_state\n",
    "from sklearn.impute import SimpleImputer"
   ]
  },
  {
   "cell_type": "code",
   "execution_count": 57,
   "metadata": {},
   "outputs": [
    {
     "name": "stdout",
     "output_type": "stream",
     "text": [
      "<class 'pandas.core.frame.DataFrame'>\n",
      "RangeIndex: 336776 entries, 0 to 336775\n",
      "Data columns (total 19 columns):\n",
      " #   Column          Non-Null Count   Dtype  \n",
      "---  ------          --------------   -----  \n",
      " 0   year            336776 non-null  int64  \n",
      " 1   month           336776 non-null  int64  \n",
      " 2   day             336776 non-null  int64  \n",
      " 3   dep_time        328521 non-null  float64\n",
      " 4   sched_dep_time  336776 non-null  int64  \n",
      " 5   dep_delay       328521 non-null  float64\n",
      " 6   arr_time        328063 non-null  float64\n",
      " 7   sched_arr_time  336776 non-null  int64  \n",
      " 8   arr_delay       327346 non-null  float64\n",
      " 9   carrier         336776 non-null  object \n",
      " 10  flight          336776 non-null  int64  \n",
      " 11  tailnum         334264 non-null  object \n",
      " 12  origin          336776 non-null  object \n",
      " 13  dest            336776 non-null  object \n",
      " 14  air_time        327346 non-null  float64\n",
      " 15  distance        336776 non-null  int64  \n",
      " 16  hour            336776 non-null  int64  \n",
      " 17  minute          336776 non-null  int64  \n",
      " 18  time_hour       336776 non-null  object \n",
      "dtypes: float64(5), int64(9), object(5)\n",
      "memory usage: 48.8+ MB\n"
     ]
    }
   ],
   "source": [
    "\n",
    "df = sm.datasets.get_rdataset('flights', 'nycflights13').data\n",
    "df.info()\n"
   ]
  },
  {
   "cell_type": "code",
   "execution_count": 58,
   "metadata": {},
   "outputs": [],
   "source": [
    "\n",
    "df.dropna(inplace=True)\n",
    "df.reset_index(drop=True, inplace=True)\n"
   ]
  },
  {
   "cell_type": "code",
   "execution_count": 59,
   "metadata": {},
   "outputs": [],
   "source": [
    "\n",
    "df['arr_hour'] = df.arr_time.apply(lambda x: int(np.floor(x/100)))\n",
    "df['arr_minute'] = df.arr_time.apply(lambda x: int(x - np.floor(x/100)*100))\n",
    "df['sched_arr_hour'] = df.sched_arr_time.apply(lambda x: int(np.floor(x/100)))\n",
    "df['sched_arr_minute'] = df.sched_arr_time.apply(lambda x: int(x - np.floor(x/100)*100))\n",
    "df['sched_dep_hour'] = df.sched_dep_time.apply(lambda x: int(np.floor(x/100)))\n",
    "df['sched_dep_minute'] = df.sched_dep_time.apply(lambda x: int(x - np.floor(x/100)*100))\n",
    "df.rename(columns={'hour': 'dep_hour', \n",
    "                   'minute': 'dep_minute'}, inplace=True)\n",
    "                   "
   ]
  },
  {
   "cell_type": "code",
   "execution_count": 60,
   "metadata": {},
   "outputs": [],
   "source": [
    "\n",
    "group = df.tailnum.tolist()\n"
   ]
  },
  {
   "cell_type": "code",
   "execution_count": 61,
   "metadata": {},
   "outputs": [],
   "source": [
    "\n",
    "target = 'arr_delay'\n",
    "y = df[target]\n",
    "X = df.drop(columns=[target, 'flight', 'time_hour', 'year', 'dep_time', 'sched_dep_time', 'arr_time', 'sched_arr_time', 'dep_delay'])\n"
   ]
  },
  {
   "cell_type": "code",
   "execution_count": 62,
   "metadata": {},
   "outputs": [
    {
     "name": "stdout",
     "output_type": "stream",
     "text": [
      "Train: [     0      1      2 ... 327343 327344 327345] Test: [    16     28     38 ... 327322 327329 327342]\n",
      "Train: [     0      2      3 ... 327342 327343 327345] Test: [     1      8     10 ... 327320 327335 327344]\n",
      "Train: [     0      1      2 ... 327343 327344 327345] Test: [     9     14     15 ... 327289 327309 327341]\n",
      "Train: [     0      1      2 ... 327343 327344 327345] Test: [     5     23     24 ... 327324 327332 327336]\n",
      "Train: [     0      1      2 ... 327342 327343 327344] Test: [     6     12     29 ... 327331 327334 327345]\n",
      "Train: [     0      1      2 ... 327343 327344 327345] Test: [    13     17     52 ... 327317 327325 327333]\n",
      "Train: [     0      1      3 ... 327343 327344 327345] Test: [     2      7     26 ... 327287 327305 327306]\n",
      "Train: [     0      1      2 ... 327343 327344 327345] Test: [    21     22     41 ... 327301 327316 327330]\n",
      "Train: [     0      1      2 ... 327343 327344 327345] Test: [     3      4     11 ... 327337 327338 327339]\n",
      "Train: [     1      2      3 ... 327342 327344 327345] Test: [     0     40     81 ... 327328 327340 327343]\n"
     ]
    }
   ],
   "source": [
    "\n",
    "gkf = GroupKFold(n_splits=10)\n",
    "for train_index, test_index in gkf.split(X, groups=group):\n",
    "    print(\"Train:\", train_index, \"Test:\", test_index)\n",
    "    X_train = X.iloc[train_index, :]\n",
    "    y_train = y[train_index]\n",
    "    X_test = X.iloc[test_index, :]\n",
    "    y_test = y[test_index]\n",
    "    "
   ]
  },
  {
   "cell_type": "code",
   "execution_count": 63,
   "metadata": {},
   "outputs": [],
   "source": [
    "logging.basicConfig(level=logging.INFO, format='%(asctime)s - %(levelname)s - %(message)s')"
   ]
  },
  {
   "cell_type": "code",
   "execution_count": 200,
   "metadata": {},
   "outputs": [],
   "source": [
    "\n",
    "def check_matrix_powers(W, A, powers, threshold):\n",
    "    for n in powers:\n",
    "        W_n = np.linalg.matrix_power(W, n)\n",
    "        non_zero_indices = np.nonzero(W_n)\n",
    "        if (np.abs(W_n[non_zero_indices]) < threshold).any():\n",
    "            return False\n",
    "    return True\n",
    "\n",
    "\n",
    "def create_stable_weighted_matrix(\n",
    "    A,\n",
    "    threshold=0.1,\n",
    "    powers=[1, 2, 3, 4],\n",
    "    max_attempts=1000,\n",
    "    damping_factor=0.99,\n",
    "    random_state=None,\n",
    "):\n",
    "    np.random.seed(\n",
    "        random_state\n",
    "    )  # Set random seed for reproducibility if provided\n",
    "    attempts = 0\n",
    "\n",
    "    while attempts < max_attempts:\n",
    "        # Generate a random matrix with the same sparsity pattern as A\n",
    "        random_weights = np.random.randn(*A.shape)\n",
    "        weighted_matrix = A * random_weights\n",
    "\n",
    "        # Convert to sparse format for efficient eigenvalue computation\n",
    "        weighted_sparse = sp.csr_matrix(weighted_matrix)\n",
    "\n",
    "        # Compute the largest eigenvalue in magnitude\n",
    "        eigenvalues, _ = eigs(weighted_sparse, k=1, which=\"LM\")\n",
    "        max_eigenvalue = np.abs(eigenvalues[0])\n",
    "\n",
    "        # Scale the matrix so that the spectral radius is slightly less than 1\n",
    "        if max_eigenvalue > 0:\n",
    "            weighted_matrix *= damping_factor / max_eigenvalue\n",
    "            # Check if the powers of the matrix preserve the threshold for non-zero entries of A\n",
    "            if check_matrix_powers(weighted_matrix, A, powers, threshold):\n",
    "                return weighted_matrix\n",
    "\n",
    "        attempts += 1\n",
    "\n",
    "    raise ValueError(\n",
    "        f\"Unable to create a matrix satisfying the condition after {max_attempts} attempts.\"\n",
    "    )\n",
    "\n",
    "\n",
    "def drawsamplesLG(A, nstd, samples):\n",
    "    n = A.shape[0]\n",
    "    data = np.zeros([n, samples])\n",
    "    data[:, 0] = nstd * np.random.randn(A.shape[0])\n",
    "    for i in range(1, samples):\n",
    "        data[:, i] = A @ data[:, i - 1] + nstd * np.random.randn(A.shape[0])\n",
    "    return data\n",
    "\n",
    "\n",
    "def genData(A, rate=2, burnin=100, ssize=5000, nstd=0.1):\n",
    "    Agt = A.copy()\n",
    "    data = drawsamplesLG(Agt, samples=burnin + (ssize * rate), nstd=nstd)\n",
    "    data = data[:, burnin:]\n",
    "    return data[:, ::rate]\n",
    "\n",
    "\n",
    "logging.basicConfig(level=logging.INFO, format='%(asctime)s - %(levelname)s - %(message)s')\n",
    "\n",
    "\n",
    "#Step 0: Iterate through values for nstd, burnin, noise_svar\n",
    "nstd = 1.0\n",
    "burn = 100\n",
    "threshold = 0.0001"
   ]
  },
  {
   "cell_type": "code",
   "execution_count": 201,
   "metadata": {},
   "outputs": [
    {
     "name": "stderr",
     "output_type": "stream",
     "text": [
      "2024-05-06 20:44:04,458 - INFO - \t\t\t\tGraph Number 1002 of 1\n"
     ]
    }
   ],
   "source": [
    "NOISE_SIZE = 2961*2\n",
    "NUM_SUBS = 10\n",
    "subjects = ['20150210', '20150417', '20150428', '20151110', '20151127', \n",
    "            '20150410', '20150421', '20151030', '20151117', '20151204']\n",
    "\n",
    "num_graphs = 1\n",
    "num_noise = 1\n",
    "n_folds = 3\n",
    "n_threads= 12\n",
    "\n",
    "graph_ix = 1002\n",
    "graph_dir = '/data/users2/jwardell1/nshor_docker/examples/oulu-project/OULU/g4.pkl'\n",
    "g = np.load(graph_dir, allow_pickle=True)\n",
    "A = graph2adj(g)\n",
    "u_rate = 1\n",
    "logging.info(f'\\t\\t\\t\\tGraph Number {graph_ix} of {num_graphs}')\n",
    "\n",
    "SNR = 1\n",
    "scalar = 10**(SNR/-2)\n"
   ]
  },
  {
   "cell_type": "code",
   "execution_count": 202,
   "metadata": {},
   "outputs": [
    {
     "name": "stderr",
     "output_type": "stream",
     "text": [
      "2024-05-06 20:44:20,763 - INFO - num converged: 0\n"
     ]
    },
    {
     "name": "stdout",
     "output_type": "stream",
     "text": [
      "ARPACK error -1: No convergence (531 iterations, 0/1 eigenvectors converged) [ARPACK error -14: DNAUPD  did not find any eigenvalues to sufficient accuracy.]\n"
     ]
    },
    {
     "name": "stderr",
     "output_type": "stream",
     "text": [
      "2024-05-06 20:44:21,148 - INFO - num converged: 2\n"
     ]
    },
    {
     "name": "stdout",
     "output_type": "stream",
     "text": [
      "ARPACK error -1: No convergence (531 iterations, 0/1 eigenvectors converged) [ARPACK error -14: DNAUPD  did not find any eigenvalues to sufficient accuracy.]\n"
     ]
    },
    {
     "name": "stderr",
     "output_type": "stream",
     "text": [
      "2024-05-06 20:44:21,487 - INFO - num converged: 3\n"
     ]
    },
    {
     "name": "stdout",
     "output_type": "stream",
     "text": [
      "ARPACK error -1: No convergence (531 iterations, 0/1 eigenvectors converged) [ARPACK error -14: DNAUPD  did not find any eigenvalues to sufficient accuracy.]\n"
     ]
    },
    {
     "name": "stderr",
     "output_type": "stream",
     "text": [
      "2024-05-06 20:44:21,842 - INFO - num converged: 4\n"
     ]
    },
    {
     "name": "stdout",
     "output_type": "stream",
     "text": [
      "ARPACK error -1: No convergence (531 iterations, 0/1 eigenvectors converged) [ARPACK error -14: DNAUPD  did not find any eigenvalues to sufficient accuracy.]\n"
     ]
    },
    {
     "name": "stderr",
     "output_type": "stream",
     "text": [
      "2024-05-06 20:44:22,194 - INFO - num converged: 5\n"
     ]
    },
    {
     "name": "stdout",
     "output_type": "stream",
     "text": [
      "ARPACK error -1: No convergence (531 iterations, 0/1 eigenvectors converged) [ARPACK error -14: DNAUPD  did not find any eigenvalues to sufficient accuracy.]\n"
     ]
    },
    {
     "name": "stderr",
     "output_type": "stream",
     "text": [
      "2024-05-06 20:44:22,693 - INFO - num converged: 8\n"
     ]
    },
    {
     "name": "stdout",
     "output_type": "stream",
     "text": [
      "ARPACK error -1: No convergence (531 iterations, 0/1 eigenvectors converged) [ARPACK error -14: DNAUPD  did not find any eigenvalues to sufficient accuracy.]\n"
     ]
    },
    {
     "name": "stderr",
     "output_type": "stream",
     "text": [
      "2024-05-06 20:44:22,995 - INFO - num converged: 9\n"
     ]
    },
    {
     "name": "stdout",
     "output_type": "stream",
     "text": [
      "ARPACK error -1: No convergence (531 iterations, 0/1 eigenvectors converged) [ARPACK error -14: DNAUPD  did not find any eigenvalues to sufficient accuracy.]\n"
     ]
    }
   ],
   "source": [
    "num_converged = 0\n",
    "converged_subjects = []\n",
    "noises = dict()\n",
    "while num_converged < NUM_SUBS:\n",
    "    for subject in subjects:\n",
    "        if subject in converged_subjects:\n",
    "            continue\n",
    "\n",
    "        try:\n",
    "            W = create_stable_weighted_matrix(A, threshold=threshold, powers=[2])\n",
    "            var_noise = genData(W, rate=u_rate, burnin=burn, ssize=NOISE_SIZE, nstd=nstd)\n",
    "            var_noise = zscore(var_noise, axis=1)\n",
    "            noises[subject] = var_noise*scalar\n",
    "            num_converged += 1\n",
    "            converged_subjects.append(subject)\n",
    "\n",
    "        except Exception as e:\n",
    "            print(e)\n",
    "            logging.info(f'num converged: {num_converged}')\n",
    "            \n"
   ]
  },
  {
   "cell_type": "code",
   "execution_count": 203,
   "metadata": {},
   "outputs": [
    {
     "data": {
      "text/plain": [
       "10"
      ]
     },
     "execution_count": 203,
     "metadata": {},
     "output_type": "execute_result"
    }
   ],
   "source": [
    "len(noises)"
   ]
  },
  {
   "cell_type": "code",
   "execution_count": 204,
   "metadata": {},
   "outputs": [
    {
     "name": "stderr",
     "output_type": "stream",
     "text": [
      "2024-05-06 20:44:40,441 - INFO - loading TC for subject 20150210\n",
      "2024-05-06 20:44:40,454 - INFO - subject 20150210 tr100_tc.shape - (53, 2961)\n",
      "2024-05-06 20:44:40,455 - INFO - subject 20150210 tr2150_tc.shape - (53, 180)\n",
      "2024-05-06 20:44:40,539 - INFO - loading TC for subject 20150417\n",
      "2024-05-06 20:44:40,577 - INFO - subject 20150417 tr100_tc.shape - (53, 2961)\n",
      "2024-05-06 20:44:40,577 - INFO - subject 20150417 tr2150_tc.shape - (53, 180)\n",
      "2024-05-06 20:44:40,631 - INFO - loading TC for subject 20150428\n",
      "2024-05-06 20:44:40,661 - INFO - subject 20150428 tr100_tc.shape - (53, 2961)\n",
      "2024-05-06 20:44:40,662 - INFO - subject 20150428 tr2150_tc.shape - (53, 180)\n",
      "2024-05-06 20:44:40,707 - INFO - loading TC for subject 20151110\n",
      "2024-05-06 20:44:40,732 - INFO - subject 20151110 tr100_tc.shape - (53, 2961)\n",
      "2024-05-06 20:44:40,732 - INFO - subject 20151110 tr2150_tc.shape - (53, 180)\n",
      "2024-05-06 20:44:40,788 - INFO - loading TC for subject 20151127\n",
      "2024-05-06 20:44:40,825 - INFO - subject 20151127 tr100_tc.shape - (53, 2961)\n",
      "2024-05-06 20:44:40,825 - INFO - subject 20151127 tr2150_tc.shape - (53, 180)\n",
      "2024-05-06 20:44:40,899 - INFO - loading TC for subject 20150410\n",
      "2024-05-06 20:44:40,925 - INFO - subject 20150410 tr100_tc.shape - (53, 2961)\n",
      "2024-05-06 20:44:40,925 - INFO - subject 20150410 tr2150_tc.shape - (53, 180)\n",
      "2024-05-06 20:44:40,978 - INFO - loading TC for subject 20150421\n",
      "2024-05-06 20:44:41,005 - INFO - subject 20150421 tr100_tc.shape - (53, 2961)\n",
      "2024-05-06 20:44:41,006 - INFO - subject 20150421 tr2150_tc.shape - (53, 180)\n",
      "2024-05-06 20:44:41,089 - INFO - loading TC for subject 20151030\n",
      "2024-05-06 20:44:41,115 - INFO - subject 20151030 tr100_tc.shape - (53, 2961)\n",
      "2024-05-06 20:44:41,115 - INFO - subject 20151030 tr2150_tc.shape - (53, 180)\n",
      "2024-05-06 20:44:41,218 - INFO - loading TC for subject 20151117\n",
      "2024-05-06 20:44:41,245 - INFO - subject 20151117 tr100_tc.shape - (53, 2961)\n",
      "2024-05-06 20:44:41,245 - INFO - subject 20151117 tr2150_tc.shape - (53, 180)\n",
      "2024-05-06 20:44:41,307 - INFO - loading TC for subject 20151204\n",
      "2024-05-06 20:44:41,341 - INFO - subject 20151204 tr100_tc.shape - (53, 2961)\n",
      "2024-05-06 20:44:41,341 - INFO - subject 20151204 tr2150_tc.shape - (53, 180)\n"
     ]
    }
   ],
   "source": [
    "all_data = []\n",
    "\n",
    "with open('/data/users2/jwardell1/undersampling-project/OULU/txt-files/allsubs_TCs.txt', 'r') as tc_data:\n",
    "    lines = tc_data.readlines()\n",
    "\n",
    "for i in range(0, len(lines), 2):\n",
    "    subject = subjects[i//2]\n",
    "    logging.info(f'loading TC for subject {subject}')\n",
    "    filepath_sr1 = lines[i].strip()\n",
    "    filepath_sr2 = lines[i+1].strip()\n",
    "    try:\n",
    "        sr1 = scipy.io.loadmat(filepath_sr1)['TCMax']\n",
    "        sr2 = scipy.io.loadmat(filepath_sr2)['TCMax']\n",
    "    \n",
    "    except:\n",
    "        continue\n",
    "\n",
    "    if sr1.shape[0] != 53:\n",
    "        sr1 = sr1.T\n",
    "\n",
    "    if sr2.shape[0] != 53:\n",
    "        sr2 = sr2.T\n",
    "    \n",
    "    if sr1.shape[1] < sr2.shape[1]:\n",
    "        tr100_tc = sr2\n",
    "        tr2150_tc = sr1\n",
    "    else:\n",
    "        tr100_tc = sr1\n",
    "        tr2150_tc = sr2\n",
    "\n",
    "    logging.info(f'subject {subject} tr100_tc.shape - {tr100_tc.shape}')\n",
    "    logging.info(f'subject {subject} tr2150_tc.shape - {tr2150_tc.shape}')\n",
    "\n",
    "    tr100_tc_zs = zscore(tr100_tc, axis=1)\n",
    "    tr2150_tc_zs = zscore(tr2150_tc, axis=1)\n",
    "\n",
    "    tr100_tc_zs_dt = detrend(tr100_tc_zs, axis=1)\n",
    "    tr2150_tc_zs_dt = detrend(tr2150_tc_zs, axis=1)\n",
    "\n",
    "    noise_tr100 = noises[subject][:,::2]\n",
    "    noise_tr2150 = noises[subject][:,::33]\n",
    "\n",
    "    tr100_tc_zs_dt_noise = tr100_tc_zs_dt+noise_tr100\n",
    "    tr2150_tc_zs_dt_noise = tr2150_tc_zs_dt+noise_tr2150\n",
    "\n",
    "    all_data.append({'Subject_ID'             : str(subject), \n",
    "                    'VAR_Noise'               : noises[subject], \n",
    "                    'TR100_Noise'             : noise_tr100, \n",
    "                    'TR2150_Noise'            : noise_tr2150, \n",
    "                    'TR100_Timecourse'        : tr100_tc_zs_dt, \n",
    "                    'TR2150_Timecourse'       : tr2150_tc_zs_dt, \n",
    "                    'TR100_Timecourse_Noise'  : tr100_tc_zs_dt_noise, \n",
    "                    'TR2150_Timecourse_Noise' : tr2150_tc_zs_dt_noise})\n",
    "    \n",
    "data_df = pd.DataFrame(all_data)"
   ]
  },
  {
   "cell_type": "code",
   "execution_count": 205,
   "metadata": {},
   "outputs": [
    {
     "data": {
      "text/html": [
       "<div>\n",
       "<style scoped>\n",
       "    .dataframe tbody tr th:only-of-type {\n",
       "        vertical-align: middle;\n",
       "    }\n",
       "\n",
       "    .dataframe tbody tr th {\n",
       "        vertical-align: top;\n",
       "    }\n",
       "\n",
       "    .dataframe thead th {\n",
       "        text-align: right;\n",
       "    }\n",
       "</style>\n",
       "<table border=\"1\" class=\"dataframe\">\n",
       "  <thead>\n",
       "    <tr style=\"text-align: right;\">\n",
       "      <th></th>\n",
       "      <th>Subject_ID</th>\n",
       "      <th>VAR_Noise</th>\n",
       "      <th>TR100_Noise</th>\n",
       "      <th>TR2150_Noise</th>\n",
       "      <th>TR100_Timecourse</th>\n",
       "      <th>TR2150_Timecourse</th>\n",
       "      <th>TR100_Timecourse_Noise</th>\n",
       "      <th>TR2150_Timecourse_Noise</th>\n",
       "    </tr>\n",
       "  </thead>\n",
       "  <tbody>\n",
       "    <tr>\n",
       "      <th>0</th>\n",
       "      <td>20150210</td>\n",
       "      <td>[[-0.20558868763082727, -0.2722194562363934, -...</td>\n",
       "      <td>[[-0.20558868763082727, -0.25296201588847994, ...</td>\n",
       "      <td>[[-0.20558868763082727, 0.12590681769916331, 0...</td>\n",
       "      <td>[[-0.04384497970934843, -1.1089141040646808, -...</td>\n",
       "      <td>[[0.6886887100527853, -0.49795380956891466, -0...</td>\n",
       "      <td>[[-0.2494336673401757, -1.3618761199531608, -0...</td>\n",
       "      <td>[[0.48310002242195804, -0.3720469918697513, -0...</td>\n",
       "    </tr>\n",
       "    <tr>\n",
       "      <th>1</th>\n",
       "      <td>20150417</td>\n",
       "      <td>[[0.33496035334505575, 0.04929764188381271, -0...</td>\n",
       "      <td>[[0.33496035334505575, -0.5877649502670702, -0...</td>\n",
       "      <td>[[0.33496035334505575, 0.0850085728716799, 0.1...</td>\n",
       "      <td>[[-0.16072029250058273, -0.8571620023770676, -...</td>\n",
       "      <td>[[-3.4277492842723736, -1.2679357539105018, 0....</td>\n",
       "      <td>[[0.17424006084447302, -1.444926952644138, -0....</td>\n",
       "      <td>[[-3.092788930927318, -1.182927181038822, 0.33...</td>\n",
       "    </tr>\n",
       "    <tr>\n",
       "      <th>2</th>\n",
       "      <td>20150428</td>\n",
       "      <td>[[-0.3336757777502661, -0.014850383580086607, ...</td>\n",
       "      <td>[[-0.3336757777502661, 0.0034649483872345476, ...</td>\n",
       "      <td>[[-0.3336757777502661, 0.1018179719577971, 0.5...</td>\n",
       "      <td>[[-0.2373189115113954, -0.9356178523703156, -0...</td>\n",
       "      <td>[[-6.277579290892411, -3.145414582661277, -1.8...</td>\n",
       "      <td>[[-0.5709946892616615, -0.932152903983081, -1....</td>\n",
       "      <td>[[-6.611255068642677, -3.04359661070348, -1.33...</td>\n",
       "    </tr>\n",
       "    <tr>\n",
       "      <th>3</th>\n",
       "      <td>20151110</td>\n",
       "      <td>[[0.05444424354959927, 0.01743622751113338, -0...</td>\n",
       "      <td>[[0.05444424354959927, -0.04021440282121913, -...</td>\n",
       "      <td>[[0.05444424354959927, -0.33285288200843455, 0...</td>\n",
       "      <td>[[0.04160904884036762, -1.0327117238148629, -1...</td>\n",
       "      <td>[[-1.7756207977992475, -0.5414674717187069, 0....</td>\n",
       "      <td>[[0.09605329238996689, -1.072926126636082, -1....</td>\n",
       "      <td>[[-1.7211765542496482, -0.8743203537271415, 0....</td>\n",
       "    </tr>\n",
       "    <tr>\n",
       "      <th>4</th>\n",
       "      <td>20151127</td>\n",
       "      <td>[[-0.4132284594607818, 0.04021687641791068, -0...</td>\n",
       "      <td>[[-0.4132284594607818, -0.37008726438812106, -...</td>\n",
       "      <td>[[-0.4132284594607818, 0.2243896806214354, -0....</td>\n",
       "      <td>[[0.4715334566403784, 0.8085277405442561, 0.57...</td>\n",
       "      <td>[[-0.546821608407083, 0.8562373936238571, 1.65...</td>\n",
       "      <td>[[0.058304997179596585, 0.4384404761561351, 0....</td>\n",
       "      <td>[[-0.9600500678678648, 1.0806270742452926, 1.4...</td>\n",
       "    </tr>\n",
       "    <tr>\n",
       "      <th>5</th>\n",
       "      <td>20150410</td>\n",
       "      <td>[[0.140136753215449, 0.6725854871267704, 0.240...</td>\n",
       "      <td>[[0.140136753215449, 0.24063998357664557, 0.10...</td>\n",
       "      <td>[[0.140136753215449, -0.14786769322943066, -0....</td>\n",
       "      <td>[[-0.6993045949882399, -0.7668812618463146, -0...</td>\n",
       "      <td>[[1.8769652714231873, 1.5203291646052297, 1.27...</td>\n",
       "      <td>[[-0.559167841772791, -0.526241278269669, -0.7...</td>\n",
       "      <td>[[2.0171020246386364, 1.372461471375799, 1.276...</td>\n",
       "    </tr>\n",
       "    <tr>\n",
       "      <th>6</th>\n",
       "      <td>20150421</td>\n",
       "      <td>[[0.47954965894067186, 0.056198246903892204, -...</td>\n",
       "      <td>[[0.47954965894067186, -0.394686062394286, -0....</td>\n",
       "      <td>[[0.47954965894067186, -0.13479694830866676, -...</td>\n",
       "      <td>[[-0.22469426804641845, -0.27654691337810755, ...</td>\n",
       "      <td>[[-0.74056219245013, 0.4103006363113777, 0.534...</td>\n",
       "      <td>[[0.2548553908942534, -0.6712329757723936, -0....</td>\n",
       "      <td>[[-0.26101253350945813, 0.27550368800271097, 0...</td>\n",
       "    </tr>\n",
       "    <tr>\n",
       "      <th>7</th>\n",
       "      <td>20151030</td>\n",
       "      <td>[[0.1980444516042698, 0.00843305658739318, -0....</td>\n",
       "      <td>[[0.1980444516042698, -0.11618353878650836, -0...</td>\n",
       "      <td>[[0.1980444516042698, 0.09950083771015832, 0.0...</td>\n",
       "      <td>[[0.44607973266800116, 0.4241701201936101, -0....</td>\n",
       "      <td>[[0.2628610467057933, 0.8372100798045181, -0.5...</td>\n",
       "      <td>[[0.6441241842722709, 0.3079865814071018, -0.3...</td>\n",
       "      <td>[[0.4609054983100631, 0.9367109175146764, -0.4...</td>\n",
       "    </tr>\n",
       "    <tr>\n",
       "      <th>8</th>\n",
       "      <td>20151117</td>\n",
       "      <td>[[-0.26824666566664873, -0.41380226643433304, ...</td>\n",
       "      <td>[[-0.26824666566664873, -0.29540448107436784, ...</td>\n",
       "      <td>[[-0.26824666566664873, 0.12378205905374423, -...</td>\n",
       "      <td>[[-0.28618495145219935, -0.13063913448791498, ...</td>\n",
       "      <td>[[-1.916928108245413, 0.24752955049021075, -1....</td>\n",
       "      <td>[[-0.5544316171188481, -0.4260436155622828, 0....</td>\n",
       "      <td>[[-2.185174773912062, 0.371311609543955, -1.28...</td>\n",
       "    </tr>\n",
       "    <tr>\n",
       "      <th>9</th>\n",
       "      <td>20151204</td>\n",
       "      <td>[[-0.24304019517521444, -0.2668465809391584, 0...</td>\n",
       "      <td>[[-0.24304019517521444, 0.24753448107533518, -...</td>\n",
       "      <td>[[-0.24304019517521444, 0.12690004559205195, 0...</td>\n",
       "      <td>[[0.07960842193259587, 0.42248155101438867, 0....</td>\n",
       "      <td>[[-0.24946115167442184, -0.8214981758873072, 0...</td>\n",
       "      <td>[[-0.16343177324261857, 0.6700160320897238, -0...</td>\n",
       "      <td>[[-0.4925013468496363, -0.6945981302952553, 1....</td>\n",
       "    </tr>\n",
       "  </tbody>\n",
       "</table>\n",
       "</div>"
      ],
      "text/plain": [
       "  Subject_ID                                          VAR_Noise  \\\n",
       "0   20150210  [[-0.20558868763082727, -0.2722194562363934, -...   \n",
       "1   20150417  [[0.33496035334505575, 0.04929764188381271, -0...   \n",
       "2   20150428  [[-0.3336757777502661, -0.014850383580086607, ...   \n",
       "3   20151110  [[0.05444424354959927, 0.01743622751113338, -0...   \n",
       "4   20151127  [[-0.4132284594607818, 0.04021687641791068, -0...   \n",
       "5   20150410  [[0.140136753215449, 0.6725854871267704, 0.240...   \n",
       "6   20150421  [[0.47954965894067186, 0.056198246903892204, -...   \n",
       "7   20151030  [[0.1980444516042698, 0.00843305658739318, -0....   \n",
       "8   20151117  [[-0.26824666566664873, -0.41380226643433304, ...   \n",
       "9   20151204  [[-0.24304019517521444, -0.2668465809391584, 0...   \n",
       "\n",
       "                                         TR100_Noise  \\\n",
       "0  [[-0.20558868763082727, -0.25296201588847994, ...   \n",
       "1  [[0.33496035334505575, -0.5877649502670702, -0...   \n",
       "2  [[-0.3336757777502661, 0.0034649483872345476, ...   \n",
       "3  [[0.05444424354959927, -0.04021440282121913, -...   \n",
       "4  [[-0.4132284594607818, -0.37008726438812106, -...   \n",
       "5  [[0.140136753215449, 0.24063998357664557, 0.10...   \n",
       "6  [[0.47954965894067186, -0.394686062394286, -0....   \n",
       "7  [[0.1980444516042698, -0.11618353878650836, -0...   \n",
       "8  [[-0.26824666566664873, -0.29540448107436784, ...   \n",
       "9  [[-0.24304019517521444, 0.24753448107533518, -...   \n",
       "\n",
       "                                        TR2150_Noise  \\\n",
       "0  [[-0.20558868763082727, 0.12590681769916331, 0...   \n",
       "1  [[0.33496035334505575, 0.0850085728716799, 0.1...   \n",
       "2  [[-0.3336757777502661, 0.1018179719577971, 0.5...   \n",
       "3  [[0.05444424354959927, -0.33285288200843455, 0...   \n",
       "4  [[-0.4132284594607818, 0.2243896806214354, -0....   \n",
       "5  [[0.140136753215449, -0.14786769322943066, -0....   \n",
       "6  [[0.47954965894067186, -0.13479694830866676, -...   \n",
       "7  [[0.1980444516042698, 0.09950083771015832, 0.0...   \n",
       "8  [[-0.26824666566664873, 0.12378205905374423, -...   \n",
       "9  [[-0.24304019517521444, 0.12690004559205195, 0...   \n",
       "\n",
       "                                    TR100_Timecourse  \\\n",
       "0  [[-0.04384497970934843, -1.1089141040646808, -...   \n",
       "1  [[-0.16072029250058273, -0.8571620023770676, -...   \n",
       "2  [[-0.2373189115113954, -0.9356178523703156, -0...   \n",
       "3  [[0.04160904884036762, -1.0327117238148629, -1...   \n",
       "4  [[0.4715334566403784, 0.8085277405442561, 0.57...   \n",
       "5  [[-0.6993045949882399, -0.7668812618463146, -0...   \n",
       "6  [[-0.22469426804641845, -0.27654691337810755, ...   \n",
       "7  [[0.44607973266800116, 0.4241701201936101, -0....   \n",
       "8  [[-0.28618495145219935, -0.13063913448791498, ...   \n",
       "9  [[0.07960842193259587, 0.42248155101438867, 0....   \n",
       "\n",
       "                                   TR2150_Timecourse  \\\n",
       "0  [[0.6886887100527853, -0.49795380956891466, -0...   \n",
       "1  [[-3.4277492842723736, -1.2679357539105018, 0....   \n",
       "2  [[-6.277579290892411, -3.145414582661277, -1.8...   \n",
       "3  [[-1.7756207977992475, -0.5414674717187069, 0....   \n",
       "4  [[-0.546821608407083, 0.8562373936238571, 1.65...   \n",
       "5  [[1.8769652714231873, 1.5203291646052297, 1.27...   \n",
       "6  [[-0.74056219245013, 0.4103006363113777, 0.534...   \n",
       "7  [[0.2628610467057933, 0.8372100798045181, -0.5...   \n",
       "8  [[-1.916928108245413, 0.24752955049021075, -1....   \n",
       "9  [[-0.24946115167442184, -0.8214981758873072, 0...   \n",
       "\n",
       "                              TR100_Timecourse_Noise  \\\n",
       "0  [[-0.2494336673401757, -1.3618761199531608, -0...   \n",
       "1  [[0.17424006084447302, -1.444926952644138, -0....   \n",
       "2  [[-0.5709946892616615, -0.932152903983081, -1....   \n",
       "3  [[0.09605329238996689, -1.072926126636082, -1....   \n",
       "4  [[0.058304997179596585, 0.4384404761561351, 0....   \n",
       "5  [[-0.559167841772791, -0.526241278269669, -0.7...   \n",
       "6  [[0.2548553908942534, -0.6712329757723936, -0....   \n",
       "7  [[0.6441241842722709, 0.3079865814071018, -0.3...   \n",
       "8  [[-0.5544316171188481, -0.4260436155622828, 0....   \n",
       "9  [[-0.16343177324261857, 0.6700160320897238, -0...   \n",
       "\n",
       "                             TR2150_Timecourse_Noise  \n",
       "0  [[0.48310002242195804, -0.3720469918697513, -0...  \n",
       "1  [[-3.092788930927318, -1.182927181038822, 0.33...  \n",
       "2  [[-6.611255068642677, -3.04359661070348, -1.33...  \n",
       "3  [[-1.7211765542496482, -0.8743203537271415, 0....  \n",
       "4  [[-0.9600500678678648, 1.0806270742452926, 1.4...  \n",
       "5  [[2.0171020246386364, 1.372461471375799, 1.276...  \n",
       "6  [[-0.26101253350945813, 0.27550368800271097, 0...  \n",
       "7  [[0.4609054983100631, 0.9367109175146764, -0.4...  \n",
       "8  [[-2.185174773912062, 0.371311609543955, -1.28...  \n",
       "9  [[-0.4925013468496363, -0.6945981302952553, 1....  "
      ]
     },
     "execution_count": 205,
     "metadata": {},
     "output_type": "execute_result"
    }
   ],
   "source": [
    "data_df"
   ]
  },
  {
   "cell_type": "code",
   "execution_count": 174,
   "metadata": {},
   "outputs": [
    {
     "data": {
      "text/plain": [
       "array([[-0.16072029, -0.857162  , -0.88618188, ..., -0.24475312,\n",
       "        -0.0390325 ,  2.77158204],\n",
       "       [-0.27577565,  0.78793228, -0.40742249, ...,  1.06567845,\n",
       "         1.16948401, -1.09990769],\n",
       "       [-0.18637006,  0.10227699, -0.33758139, ..., -0.31839054,\n",
       "        -0.04208736, -1.18216846],\n",
       "       ...,\n",
       "       [-1.69537915, -1.60145677, -1.36767595, ..., -3.08402763,\n",
       "        -3.01850292, -3.76039927],\n",
       "       [-0.5619479 ,  0.09993209, -0.60095344, ...,  1.11671087,\n",
       "         1.32260834,  0.19622501],\n",
       "       [-0.35776988, -0.17315649, -0.34432158, ...,  0.75819931,\n",
       "         0.733682  , -0.1983396 ]])"
      ]
     },
     "execution_count": 174,
     "metadata": {},
     "output_type": "execute_result"
    }
   ],
   "source": [
    "\n",
    "\n",
    "subject = subjects[1]\n",
    "sub_row = data_df[data_df['Subject_ID']  == subject]\n",
    "tr100 = sub_row['TR100_Timecourse']\n",
    "tr100.iloc[0]\n"
   ]
  },
  {
   "cell_type": "code",
   "execution_count": 206,
   "metadata": {},
   "outputs": [
    {
     "name": "stderr",
     "output_type": "stream",
     "text": [
      "2024-05-06 20:44:57,011 - INFO - subject 20150210\n",
      "2024-05-06 20:44:57,113 - INFO - subject 20150417\n",
      "2024-05-06 20:44:57,203 - INFO - subject 20150428\n",
      "2024-05-06 20:44:57,293 - INFO - subject 20151110\n",
      "2024-05-06 20:44:57,382 - INFO - subject 20151127\n",
      "2024-05-06 20:44:57,474 - INFO - subject 20150410\n",
      "2024-05-06 20:44:57,565 - INFO - subject 20150421\n",
      "2024-05-06 20:44:57,666 - INFO - subject 20151030\n",
      "2024-05-06 20:44:57,760 - INFO - subject 20151117\n",
      "2024-05-06 20:44:57,861 - INFO - subject 20151204\n"
     ]
    }
   ],
   "source": [
    "tr100_data = []\n",
    "tr2150_data = []\n",
    "add_data = []\n",
    "concat_data = []\n",
    "\n",
    "for subject in subjects:\n",
    "    sub_row = data_df[data_df['Subject_ID']  == subject]\n",
    "    logging.info(f'subject {subject}')\n",
    "\n",
    "    tr100 = sub_row['TR100_Timecourse'].iloc[0]\n",
    "    tr100_noise = sub_row['TR100_Timecourse_Noise'].iloc[0]\n",
    "    \n",
    "    tr2150 = sub_row['TR2150_Timecourse'].iloc[0]\n",
    "    tr100_noise = sub_row['TR2150_Timecourse_Noise'].iloc[0]\n",
    "\n",
    "    n_regions, n_tp_tr100 = tr100.shape\n",
    "    _, n_tp_tr2150 = tr2150.shape\n",
    "\n",
    "    tr2150_window_size = 100\n",
    "    tr2150_stride = 1\n",
    "    n_sections = 80\n",
    "    tr2150_start_ix = 0\n",
    "    tr2150_end_ix = tr2150_window_size\n",
    "    \n",
    "    tr100_window_size = int((n_tp_tr100 / n_tp_tr2150) * tr2150_window_size)\n",
    "    tr100_stride = n_tp_tr100 // n_tp_tr2150\n",
    "    tr100_start_ix = 0\n",
    "    tr100_end_ix = tr100_window_size\n",
    "\n",
    "\n",
    "    for j in range(n_sections):\n",
    "        window_ix = i * n_sections * 2 + j * 2\n",
    "        \n",
    "        tr100_section = tr100[:, tr100_start_ix:tr100_end_ix]\n",
    "        tr100_section_noise = tr100_noise[:, tr100_start_ix:tr100_end_ix]\n",
    "\n",
    "        tr2150_section = tr2150[:, tr2150_start_ix:tr2150_end_ix]\n",
    "        tr2150_section_noise = tr100_noise[:, tr2150_start_ix:tr2150_end_ix]\n",
    "\n",
    "\n",
    "\n",
    "\n",
    "\n",
    "\n",
    "        tr100_fnc_triu = np.corrcoef(tr100_section)[np.triu_indices(n_regions)]\n",
    "        tr100_noise_fnc_triu = np.corrcoef(tr100_section_noise)[np.triu_indices(n_regions)]\n",
    "\n",
    "        tr2150_fnc_triu = np.corrcoef(tr2150_section)[np.triu_indices(n_regions)]\n",
    "        tr2150_noise_fnc_triu = np.corrcoef(tr2150_section_noise)[np.triu_indices(n_regions)]\n",
    "\n",
    "        concat_tr100_tr2150 = np.concatenate((tr100_fnc_triu , tr2150_fnc_triu))\n",
    "        concat_tr100_tr2150_noise = np.concatenate((tr100_noise_fnc_triu , tr2150_noise_fnc_triu))\n",
    "\n",
    "        add_tr100_tr2150 = tr100_fnc_triu + tr2150_fnc_triu\n",
    "        add_tr100_tr2150_noise = tr100_noise_fnc_triu + tr2150_noise_fnc_triu\n",
    "\n",
    "\n",
    "        tr100_data.append({'subject'          : subject, \n",
    "                           'TR100ms_Window'   : tr100_fnc_triu, \n",
    "                           'target'           : '0'})\n",
    "        tr100_data.append({'subject'          : subject, \n",
    "                           'TR100ms_Window'   : tr100_noise_fnc_triu, \n",
    "                           'target'           : '1'})\n",
    "        \n",
    "        tr2150_data.append({'subject'         : subject,\n",
    "                            'TR2150ms_Window' : tr2150_fnc_triu, \n",
    "                            'target'          : '0'})\n",
    "        tr2150_data.append({'subject'         : subject,\n",
    "                            'TR2150ms_Window' : tr2150_noise_fnc_triu, \n",
    "                            'target'          : '1'})\n",
    "        \n",
    "        concat_data.append({'subject'         : subject, \n",
    "                            'Concat_Window'   : concat_tr100_tr2150,\n",
    "                           'target'          : '0'})\n",
    "        concat_data.append({'subject'         : subject, \n",
    "                           'Concat_Window'   : concat_tr100_tr2150_noise,\n",
    "                           'target'          : '1'})\n",
    "        \n",
    "        add_data.append({'subject'            : subject,\n",
    "                         'Add_Window'         : add_tr100_tr2150,\n",
    "                         'target'             : '0'})\n",
    "        add_data.append({'subject'            : subject,\n",
    "                         'Add_Window'         : add_tr100_tr2150,\n",
    "                         'target'             : '1'})\n",
    "\n",
    "\n",
    "\n",
    "tr100_df = pd.DataFrame(tr100_data)\n",
    "tr2150_df = pd.DataFrame(tr2150_data)\n",
    "concat_df = pd.DataFrame(concat_data)\n",
    "add_df = pd.DataFrame(add_data)\n",
    "\n"
   ]
  },
  {
   "cell_type": "code",
   "execution_count": 227,
   "metadata": {},
   "outputs": [],
   "source": [
    "from sklearn.neural_network import MLPClassifier\n",
    "from sklearn.metrics import roc_auc_score"
   ]
  },
  {
   "cell_type": "code",
   "execution_count": 238,
   "metadata": {},
   "outputs": [
    {
     "data": {
      "text/plain": [
       "(1600,)"
      ]
     },
     "execution_count": 238,
     "metadata": {},
     "output_type": "execute_result"
    }
   ],
   "source": [
    "group = tr100_df['subject']\n",
    "y = tr100_df['target']\n",
    "y = np.array([str(entry) for entry in y])\n",
    "X = tr100_df['TR100ms_Window']\n",
    "X = np.array([np.array(entry) for entry in X_tr100])\n",
    "y.shape"
   ]
  },
  {
   "cell_type": "code",
   "execution_count": 245,
   "metadata": {},
   "outputs": [
    {
     "ename": "TypeError",
     "evalue": "list indices must be integers or slices, not tuple",
     "output_type": "error",
     "traceback": [
      "\u001b[0;31m---------------------------------------------------------------------------\u001b[0m",
      "\u001b[0;31mTypeError\u001b[0m                                 Traceback (most recent call last)",
      "Cell \u001b[0;32mIn[245], line 2\u001b[0m\n\u001b[1;32m      1\u001b[0m mylist \u001b[38;5;241m=\u001b[39m [[\u001b[38;5;241m1\u001b[39m,\u001b[38;5;241m2\u001b[39m,\u001b[38;5;241m3\u001b[39m,\u001b[38;5;241m4\u001b[39m,\u001b[38;5;241m2\u001b[39m,\u001b[38;5;241m5\u001b[39m],[\u001b[38;5;241m-\u001b[39m\u001b[38;5;241m1\u001b[39m,\u001b[38;5;241m-\u001b[39m\u001b[38;5;241m9\u001b[39m,\u001b[38;5;241m-\u001b[39m\u001b[38;5;241m8\u001b[39m,\u001b[38;5;241m-\u001b[39m\u001b[38;5;241m7\u001b[39m,\u001b[38;5;241m-\u001b[39m\u001b[38;5;241m6\u001b[39m,\u001b[38;5;241m-\u001b[39m\u001b[38;5;241m5\u001b[39m]]\n\u001b[0;32m----> 2\u001b[0m \u001b[43mmylist\u001b[49m\u001b[43m[\u001b[49m\u001b[43m:\u001b[49m\u001b[43m,\u001b[49m\u001b[38;5;241;43m-\u001b[39;49m\u001b[38;5;241;43m1\u001b[39;49m\u001b[43m]\u001b[49m\n",
      "\u001b[0;31mTypeError\u001b[0m: list indices must be integers or slices, not tuple"
     ]
    }
   ],
   "source": [
    "mylist = [[1,2,3,4,2,5],[-1,-9,-8,-7,-6,-5]]\n",
    "mylist[:,-1]"
   ]
  },
  {
   "cell_type": "code",
   "execution_count": null,
   "metadata": {},
   "outputs": [],
   "source": [
    "res1 = []\n",
    "\n",
    "gkf = GroupKFold(n_splits=10)\n",
    "fold_ix = 0\n",
    "for train_index, test_index in gkf.split(X, groups=group):\n",
    "    print(\"Fold:\", fold_ix, \"Train:\", train_index, \"\\nTest:\", test_index)\n",
    "    X_train = X[train_index, :]\n",
    "    y_train = y[train_index]\n",
    "    X_test = X[test_index, :]\n",
    "    y_test = y[test_index]\n",
    "    print('\\n')\n",
    "    clf = MLPClassifier(random_state=1, max_iter=300).fit(X_train, y_train)\n",
    "    y_pred_proba = clf.predict_proba(X_test)\n",
    "    y_pred = clf.predict(X_test)\n",
    "    auc = roc_auc_score(y_test, y_pred_proba[:, 1])\n",
    "    res1.append({'Fold'      : fold_ix,\n",
    "                'pred_proba' : y_pred_proba,\n",
    "                'y_pred'     : y_pred,\n",
    "                'target'     : target,\n",
    "                'auc'        : auc})\n",
    "    fold_ix += 1\n",
    "   \n",
    "res1_df = pd.DataFrame(res1)"
   ]
  },
  {
   "cell_type": "code",
   "execution_count": 253,
   "metadata": {},
   "outputs": [
    {
     "data": {
      "text/plain": [
       "0.31622776601683794"
      ]
     },
     "execution_count": 253,
     "metadata": {},
     "output_type": "execute_result"
    }
   ],
   "source": [
    "scalar"
   ]
  },
  {
   "cell_type": "code",
   "execution_count": null,
   "metadata": {},
   "outputs": [],
   "source": [
    "\n",
    "gkf = GroupKFold(n_splits=10)\n",
    "for train_index, test_index in gkf.split(X, groups=group):\n",
    "    print(\"Train:\", train_index, \"Test:\", test_index)\n",
    "    X_train = X.iloc[train_index, :]\n",
    "    y_train = y[train_index]\n",
    "    X_test = X.iloc[test_index, :]\n",
    "    y_test = y[test_index]\n",
    "    "
   ]
  },
  {
   "cell_type": "code",
   "execution_count": 210,
   "metadata": {},
   "outputs": [
    {
     "name": "stderr",
     "output_type": "stream",
     "text": [
      "2024-05-06 20:47:32,897 - INFO - Detected 2 classes in label\n",
      "2024-05-06 20:47:32,898 - INFO - Building classifiers ...\n",
      "2024-05-06 20:47:32,904 - INFO - Initialization, done.\n",
      "2024-05-06 20:47:32,905 - INFO - Detected 10 unique groups\n",
      "2024-05-06 20:47:33,571 - INFO - Training Multilayer Perceptron 1\n",
      "2024-05-06 20:47:33,652 - INFO - Training Multilayer Perceptron 0\n",
      "2024-05-06 20:47:33,700 - INFO - Training Multilayer Perceptron 2\n",
      "2024-05-06 20:47:33,880 - INFO - Training SVM 0\n",
      "2024-05-06 20:47:33,988 - INFO - Training SVM 1\n",
      "2024-05-06 20:47:34,176 - INFO - Training Logistic Regression 1\n",
      "2024-05-06 20:47:34,163 - INFO - Training Logistic Regression 0\n",
      "2024-05-06 20:47:34,195 - INFO - Training SVM 2\n",
      "2024-05-06 20:47:34,248 - INFO - Training Naive Bayes 0\n",
      "2024-05-06 20:47:34,239 - INFO - Training Logistic Regression 2\n",
      "2024-05-06 20:47:34,365 - INFO - Training Naive Bayes 2\n",
      "2024-05-06 20:47:34,404 - INFO - Training Naive Bayes 1\n",
      "2024-05-06 20:47:35,813 - INFO - Naive Bayes                0: Train 1.00/Test 1.00, 1.57 sec\n",
      "2024-05-06 20:47:36,083 - INFO - Naive Bayes                2: Train 1.00/Test 1.00, 1.65 sec\n",
      "2024-05-06 20:47:36,223 - INFO - Naive Bayes                1: Train 1.00/Test 1.00, 1.82 sec\n",
      "2024-05-06 20:47:38,585 - INFO - Logistic Regression        0: Train 1.00/Test 1.00, 4.42 sec\n",
      "2024-05-06 20:47:38,625 - INFO - Logistic Regression        1: Train 1.00/Test 1.00, 4.45 sec\n",
      "2024-05-06 20:47:38,816 - INFO - Logistic Regression        2: Train 1.00/Test 1.00, 4.58 sec\n",
      "2024-05-06 20:47:45,608 - INFO - Multilayer Perceptron      2: Train 1.00/Test 1.00, 11.91 sec\n",
      "2024-05-06 20:47:46,267 - INFO - Multilayer Perceptron      0: Train 1.00/Test 1.00, 12.61 sec\n",
      "2024-05-06 20:47:46,303 - INFO - Multilayer Perceptron      1: Train 1.00/Test 1.00, 12.73 sec\n",
      "2024-05-06 20:47:56,724 - INFO - SVM                        0: Train 1.00/Test 1.00, 22.84 sec\n",
      "2024-05-06 20:48:01,262 - INFO - SVM                        1: Train 1.00/Test 1.00, 27.27 sec\n",
      "2024-05-06 20:48:02,178 - INFO - SVM                        2: Train 1.00/Test 1.00, 27.99 sec\n"
     ]
    },
    {
     "name": "stdout",
     "output_type": "stream",
     "text": [
      "                             mean           std  min  max\n",
      "Multilayer Perceptron train   1.0  0.000000e+00  1.0  1.0\n",
      "                      test    1.0  0.000000e+00  1.0  1.0\n",
      "SVM                   train   1.0  0.000000e+00  1.0  1.0\n",
      "                      test    1.0  0.000000e+00  1.0  1.0\n",
      "Logistic Regression   train   1.0  1.110223e-16  1.0  1.0\n",
      "                      test    1.0  7.850462e-17  1.0  1.0\n",
      "Naive Bayes           train   1.0  0.000000e+00  1.0  1.0\n",
      "                      test    1.0  0.000000e+00  1.0  1.0\n",
      "Voting                train   1.0  0.000000e+00  1.0  1.0\n",
      "                      test    1.0  0.000000e+00  1.0  1.0\n"
     ]
    },
    {
     "ename": "NameError",
     "evalue": "name 'noise_ix' is not defined",
     "output_type": "error",
     "traceback": [
      "\u001b[0;31m---------------------------------------------------------------------------\u001b[0m",
      "\u001b[0;31mNameError\u001b[0m                                 Traceback (most recent call last)",
      "Cell \u001b[0;32mIn[210], line 11\u001b[0m\n\u001b[1;32m      1\u001b[0m res1 \u001b[38;5;241m=\u001b[39m []\n\u001b[1;32m      3\u001b[0m report1 \u001b[38;5;241m=\u001b[39m poly(data\u001b[38;5;241m=\u001b[39mX_tr100, label\u001b[38;5;241m=\u001b[39my_tr100, groups\u001b[38;5;241m=\u001b[39mgroup_tr100, n_folds\u001b[38;5;241m=\u001b[39m\u001b[38;5;241m3\u001b[39m, scale\u001b[38;5;241m=\u001b[39m\u001b[38;5;28;01mTrue\u001b[39;00m, concurrency\u001b[38;5;241m=\u001b[39m\u001b[38;5;241m12\u001b[39m, save\u001b[38;5;241m=\u001b[39m\u001b[38;5;28;01mFalse\u001b[39;00m, \n\u001b[1;32m      4\u001b[0m                 exclude\u001b[38;5;241m=\u001b[39m[\u001b[38;5;124m'\u001b[39m\u001b[38;5;124mDecision Tree\u001b[39m\u001b[38;5;124m'\u001b[39m, \u001b[38;5;124m'\u001b[39m\u001b[38;5;124mRandom Forest\u001b[39m\u001b[38;5;124m'\u001b[39m, \u001b[38;5;124m'\u001b[39m\u001b[38;5;124mVoting\u001b[39m\u001b[38;5;124m'\u001b[39m, \u001b[38;5;124m'\u001b[39m\u001b[38;5;124mNearest Neighbors\u001b[39m\u001b[38;5;124m'\u001b[39m, \u001b[38;5;124m'\u001b[39m\u001b[38;5;124mLinear SVM\u001b[39m\u001b[38;5;124m'\u001b[39m],  scoring\u001b[38;5;241m=\u001b[39m\u001b[38;5;124m'\u001b[39m\u001b[38;5;124mauc\u001b[39m\u001b[38;5;124m'\u001b[39m)\n\u001b[1;32m      8\u001b[0m res1\u001b[38;5;241m.\u001b[39mappend({\u001b[38;5;124m'\u001b[39m\u001b[38;5;124mgraph_no\u001b[39m\u001b[38;5;124m'\u001b[39m: graph_ix,                                                                                                      \u001b[38;5;66;03m# save the SR1 results to a dict for results dataframe\u001b[39;00m\n\u001b[1;32m      9\u001b[0m                             \u001b[38;5;124m'\u001b[39m\u001b[38;5;124mnstd\u001b[39m\u001b[38;5;124m'\u001b[39m: nstd,\n\u001b[1;32m     10\u001b[0m                             \u001b[38;5;124m'\u001b[39m\u001b[38;5;124mburnin\u001b[39m\u001b[38;5;124m'\u001b[39m: burn,\n\u001b[0;32m---> 11\u001b[0m                             \u001b[38;5;124m'\u001b[39m\u001b[38;5;124mnoise_no\u001b[39m\u001b[38;5;124m'\u001b[39m: \u001b[43mnoise_ix\u001b[49m,\n\u001b[1;32m     12\u001b[0m                             \u001b[38;5;124m'\u001b[39m\u001b[38;5;124msnr\u001b[39m\u001b[38;5;124m'\u001b[39m: SNR,\n\u001b[1;32m     13\u001b[0m                             \u001b[38;5;124m'\u001b[39m\u001b[38;5;124mscalar\u001b[39m\u001b[38;5;124m'\u001b[39m: scalar,\n\u001b[1;32m     14\u001b[0m                             \u001b[38;5;124m'\u001b[39m\u001b[38;5;124mclassifier\u001b[39m\u001b[38;5;124m'\u001b[39m: classifier,\n\u001b[1;32m     15\u001b[0m                             \u001b[38;5;124m'\u001b[39m\u001b[38;5;124mtest_scores\u001b[39m\u001b[38;5;124m'\u001b[39m: report1\u001b[38;5;241m.\u001b[39mscores[classifier, \u001b[38;5;124m'\u001b[39m\u001b[38;5;124mtest\u001b[39m\u001b[38;5;124m'\u001b[39m], \n\u001b[1;32m     16\u001b[0m                             \u001b[38;5;124m'\u001b[39m\u001b[38;5;124mtarget\u001b[39m\u001b[38;5;124m'\u001b[39m: report1\u001b[38;5;241m.\u001b[39mtarget, \n\u001b[1;32m     17\u001b[0m                             \u001b[38;5;124m'\u001b[39m\u001b[38;5;124mpredictions\u001b[39m\u001b[38;5;124m'\u001b[39m: np\u001b[38;5;241m.\u001b[39marray(report1\u001b[38;5;241m.\u001b[39mpredictions[classifier])\u001b[38;5;241m.\u001b[39mastype(\u001b[38;5;28mint\u001b[39m),\n\u001b[1;32m     18\u001b[0m                             \u001b[38;5;124m'\u001b[39m\u001b[38;5;124mtest_proba\u001b[39m\u001b[38;5;124m'\u001b[39m: report1\u001b[38;5;241m.\u001b[39mtest_proba[classifier]})\n\u001b[1;32m     20\u001b[0m res1_df \u001b[38;5;241m=\u001b[39m pd\u001b[38;5;241m.\u001b[39mdf(res1)\n",
      "\u001b[0;31mNameError\u001b[0m: name 'noise_ix' is not defined"
     ]
    },
    {
     "data": {
      "image/png": "[encoded data removed]",
      "text/plain": [
       "<Figure size 640x480 with 1 Axes>"
      ]
     },
     "metadata": {},
     "output_type": "display_data"
    }
   ],
   "source": [
    "res1 = []\n",
    "\n",
    "report1 = poly(data=X_tr100, label=y_tr100, groups=group_tr100, n_folds=3, scale=True, concurrency=12, save=False, \n",
    "                exclude=['Decision Tree', 'Random Forest', 'Voting', 'Nearest Neighbors', 'Linear SVM'],  scoring='auc')\n",
    "\n",
    "\n",
    "\n",
    "res1.append({'graph_no': graph_ix,                                                                                                      # save the SR1 results to a dict for results dataframe\n",
    "                            'nstd': nstd,\n",
    "                            'burnin': burn,\n",
    "                            'noise_no': noise_ix,\n",
    "                            'snr': SNR,\n",
    "                            'scalar': scalar,\n",
    "                            'classifier': classifier,\n",
    "                            'test_scores': report1.scores[classifier, 'test'], \n",
    "                            'target': report1.target, \n",
    "                            'predictions': np.array(report1.predictions[classifier]).astype(int),\n",
    "                            'test_proba': report1.test_proba[classifier]})\n",
    "\n",
    "res1_df = pd.df(res1)"
   ]
  },
  {
   "cell_type": "code",
   "execution_count": null,
   "metadata": {},
   "outputs": [],
   "source": []
  }
 ],
 "metadata": {
  "kernelspec": {
   "display_name": "usp",
   "language": "python",
   "name": "python3"
  },
  "language_info": {
   "codemirror_mode": {
    "name": "ipython",
    "version": 3
   },
   "file_extension": ".py",
   "mimetype": "text/x-python",
   "name": "python",
   "nbconvert_exporter": "python",
   "pygments_lexer": "ipython3",
   "version": "3.11.8"
  }
 },
 "nbformat": 4,
 "nbformat_minor": 2
}
